{
 "cells": [
  {
   "cell_type": "code",
   "execution_count": 2,
   "id": "63ed8d6a-7912-4257-9c0d-77e70fe6d81b",
   "metadata": {},
   "outputs": [
    {
     "name": "stdin",
     "output_type": "stream",
     "text": [
      "Enter a string:  malayalam\n"
     ]
    },
    {
     "name": "stdout",
     "output_type": "stream",
     "text": [
      "String is Palindrome\n"
     ]
    }
   ],
   "source": [
    "#Checking whether string is palindrome or not\n",
    "# Return if a string is a palindrome\n",
    "def is_palindrome(text: str) -> bool:\n",
    "    return text == text[::-1]\n",
    "\n",
    "# User input\n",
    "user_input = input(\"Enter a string: \").strip()\n",
    "\n",
    "# Check and display result\n",
    "if is_palindrome(user_input):\n",
    "    print(\"String is Palindrome\")\n",
    "else:\n",
    "    print(\"String is Not a palindrome\")\n"
   ]
  },
  {
   "cell_type": "code",
   "execution_count": 5,
   "id": "176ea74a-8da5-4832-9def-1d59ba623856",
   "metadata": {},
   "outputs": [
    {
     "name": "stdin",
     "output_type": "stream",
     "text": [
      "Enter a string:  Hola\n"
     ]
    },
    {
     "name": "stdout",
     "output_type": "stream",
     "text": [
      "String is Not a palindrome\n"
     ]
    }
   ],
   "source": [
    "#Checking whether string is palindrome or not\n",
    "# Return if a string is a palindrome\n",
    "def is_palindrome(text: str) -> bool:\n",
    "    return text == text[::-1]\n",
    "\n",
    "# User input\n",
    "user_input = input(\"Enter a string: \").strip()\n",
    "\n",
    "# Check and display result\n",
    "if is_palindrome(user_input):\n",
    "    print(\"String is Palindrome\")\n",
    "else:\n",
    "    print(\"String is Not a palindrome\")\n"
   ]
  },
  {
   "cell_type": "code",
   "execution_count": 4,
   "id": "ae5f8ca2-a55d-46d2-8b81-7c98ed8ba802",
   "metadata": {},
   "outputs": [
    {
     "name": "stdout",
     "output_type": "stream",
     "text": [
      "Squares: [1, 4, 9, 16, 25]\n"
     ]
    }
   ],
   "source": [
    "#Array Manipulation\n",
    "# List of numbers\n",
    "numbers = [1, 2, 3, 4, 5]\n",
    "\n",
    "# Squares using list comprehension\n",
    "squares = [n**2 for n in numbers]\n",
    "\n",
    "print(\"Squares:\", squares)\n"
   ]
  },
  {
   "cell_type": "code",
   "execution_count": 8,
   "id": "3d7fdc11-a154-4d38-a92c-0346153e05fd",
   "metadata": {},
   "outputs": [
    {
     "name": "stdout",
     "output_type": "stream",
     "text": [
      "      Name  Marks\n",
      "0    Alice     85\n",
      "1      Bob     72\n",
      "2  Charlie     91\n",
      "3    David     67\n",
      "4      Eve     88\n",
      "\n",
      "Students who scored more than 80:\n",
      "      Name  Marks\n",
      "0    Alice     85\n",
      "2  Charlie     91\n",
      "4      Eve     88\n"
     ]
    }
   ],
   "source": [
    "#Creating Dataframe of 5 students marks and filtering out students with marks > 80\n",
    "import pandas as pd\n",
    "\n",
    "# Create DataFrame\n",
    "students = pd.DataFrame({\n",
    "    \"Name\": [\"Alice\", \"Bob\", \"Charlie\", \"David\", \"Eve\"],\n",
    "    \"Marks\": [85, 72, 91, 67, 88]\n",
    "})\n",
    "#Printing Students marks\n",
    "print(students)\n",
    "# Filter students with marks > 80\n",
    "print(\"\\nStudents who scored more than 80:\")\n",
    "print(students[students[\"Marks\"] > 80])"
   ]
  },
  {
   "cell_type": "code",
   "execution_count": 11,
   "id": "fa200724-1159-457a-9283-c0ae550330f0",
   "metadata": {},
   "outputs": [
    {
     "name": "stdout",
     "output_type": "stream",
     "text": [
      "5x5 Random Array:\n",
      " [[ 6 98 57 87 63]\n",
      " [ 2 25 60 73 47]\n",
      " [92 49 20 64 30]\n",
      " [ 7 17  4 13 79]\n",
      " [80 27 25 68 19]]\n"
     ]
    }
   ],
   "source": [
    "#Creating 5x5 array of random integer\n",
    "import numpy as np\n",
    "\n",
    "# Create 5x5 array with random integers (1–100)\n",
    "arr = np.random.randint(1, 101, (5, 5))\n",
    "\n",
    "print(\"5x5 Random Array:\\n\", arr)"
   ]
  },
  {
   "cell_type": "code",
   "execution_count": 10,
   "id": "a66c2394-51f2-4a3c-9b20-55e141ae6e71",
   "metadata": {},
   "outputs": [
    {
     "name": "stdout",
     "output_type": "stream",
     "text": [
      "5x5 Random Array:\n",
      " [[89 22 33 35 58]\n",
      " [48 53 30 18 92]\n",
      " [43 68  1 50 36]\n",
      " [78 63 20 95 89]\n",
      " [30 84 66 76 50]]\n"
     ]
    }
   ],
   "source": [
    "#Creating 5x5 array of random integer\n",
    "import numpy as np\n",
    "\n",
    "# Create 5x5 array with random integers (1–100)\n",
    "arr = np.random.randint(1, 101, (5, 5))\n",
    "\n",
    "print(\"5x5 Random Array:\\n\", arr)"
   ]
  },
  {
   "cell_type": "code",
   "execution_count": 12,
   "id": "aee362a1-164e-409a-bd8f-dd34d7e0027b",
   "metadata": {},
   "outputs": [
    {
     "name": "stdout",
     "output_type": "stream",
     "text": [
      "Products DataFrame:\n",
      "   Product Name  Price     Category  Discounted Price\n",
      "0       Laptop    800  Electronics             720.0\n",
      "1        Phone    600  Electronics             540.0\n",
      "2       Tablet    300  Electronics             270.0\n",
      "3   Headphones    150  Accessories             135.0\n",
      "4     Keyboard     50  Accessories              45.0\n",
      "\n",
      "Products cheaper than 500:\n",
      "   Product Name  Price     Category  Discounted Price\n",
      "2       Tablet    300  Electronics             270.0\n",
      "3   Headphones    150  Accessories             135.0\n",
      "4     Keyboard     50  Accessories              45.0\n"
     ]
    }
   ],
   "source": [
    "#Adding new columns to the existing Product data frame and filtering \n",
    "import pandas as pd\n",
    "\n",
    "# Create product DataFrame\n",
    "products = pd.DataFrame({\n",
    "    \"Product Name\": [\"Laptop\", \"Phone\", \"Tablet\", \"Headphones\", \"Keyboard\"],\n",
    "    \"Price\": [800, 600, 300, 150, 50],\n",
    "    \"Category\": [\"Electronics\", \"Electronics\", \"Electronics\", \"Accessories\", \"Accessories\"]\n",
    "})\n",
    "\n",
    "# Add Discounted Price column (90% of original)\n",
    "products[\"Discounted Price\"] = products[\"Price\"] * 0.9\n",
    "\n",
    "# Filter products cheaper than 500\n",
    "cheap_products = products[products[\"Price\"] < 500]\n",
    "\n",
    "print(\"Products DataFrame:\\n\", products)\n",
    "print(\"\\nProducts cheaper than 500:\\n\", cheap_products)"
   ]
  }
 ],
 "metadata": {
  "kernelspec": {
   "display_name": "Python 3 (ipykernel)",
   "language": "python",
   "name": "python3"
  },
  "language_info": {
   "codemirror_mode": {
    "name": "ipython",
    "version": 3
   },
   "file_extension": ".py",
   "mimetype": "text/x-python",
   "name": "python",
   "nbconvert_exporter": "python",
   "pygments_lexer": "ipython3",
   "version": "3.13.3"
  }
 },
 "nbformat": 4,
 "nbformat_minor": 5
}
